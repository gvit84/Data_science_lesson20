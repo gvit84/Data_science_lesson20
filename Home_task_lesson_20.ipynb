{
 "cells": [
  {
   "cell_type": "markdown",
   "id": "adc02ca0",
   "metadata": {},
   "source": [
    "|**Task_1**|\n",
    "|:----:|"
   ]
  },
  {
   "cell_type": "markdown",
   "id": "03e3f1f7",
   "metadata": {},
   "source": [
    "| **Year** | **Rank** | **Company** | **Revenue** | **Profit** |\n",
    "| :--- | :--- | :--- | :--- | :--- |\n",
    "| 1955 | 229 | Norton | 135.0 | N.A. |\n",
    "| 1955 | 291 | Schlitz Brewing | 100.0 | N.A. |\n",
    "| 1955 | 295 | Pacific Vegetable Oil | 97.9 | N.A. |\n",
    "| 1955 | 297 | Liebmann Breweries | 96.0 | N.A. |\n",
    "| 1955 | 353 | Minneapolis-Moline | 77.4 | N.A. |"
   ]
  },
  {
   "cell_type": "markdown",
   "id": "0036c9c7",
   "metadata": {},
   "source": [
    "|**Task_2**|\n",
    "|:----:|"
   ]
  },
  {
   "cell_type": "code",
   "execution_count": 24,
   "id": "55698512",
   "metadata": {},
   "outputs": [
    {
     "name": "stdout",
     "output_type": "stream",
     "text": [
      "Everage time is 0.0 seconds\n",
      "47.1 ns ± 17.5 ns per loop (mean ± std. dev. of 7 runs, 10 loops each)\n",
      "50 ns ± 13.1 ns per loop (mean ± std. dev. of 7 runs, 10 loops each)\n"
     ]
    }
   ],
   "source": [
    "import random\n",
    "import time\n",
    "\n",
    "int_list = []\n",
    "for i in range(0, 5000):\n",
    "    int_list.append(random.randint(0, 1000))\n",
    "\n",
    "\n",
    "def bubble_sort(lst):\n",
    "    length = len(lst)\n",
    "    for i in range(length - 1):\n",
    "        for j in range(length - i - 1):\n",
    "            if lst[j] > lst[j + 1]:\n",
    "                lst[j], lst[j + 1] = lst[j + 1], lst[j]\n",
    "    return lst\n",
    "\n",
    "bubble_sort(int_list)\n",
    "\n",
    "\n",
    "def everage_time(lst, iter_number):\n",
    "    total_time = 0\n",
    "    for i in range(0, iter_number):\n",
    "        start_time = time.time()\n",
    "        i = lst\n",
    "        end_time = time.time() - start_time\n",
    "        total_time += end_time\n",
    "    return total_time / iter_number\n",
    "\n",
    "et = everage_time(bubble_sort(int_list), 10)\n",
    "print(f\"Everage time is {et} seconds\")\n",
    "\n",
    "%timeit -n 10 everage_time\n",
    "%timeit -n 10 bubble_sort"
   ]
  },
  {
   "cell_type": "code",
   "execution_count": null,
   "id": "ef470f05",
   "metadata": {},
   "outputs": [],
   "source": []
  }
 ],
 "metadata": {
  "kernelspec": {
   "display_name": "Python 3 (ipykernel)",
   "language": "python",
   "name": "python3"
  },
  "language_info": {
   "codemirror_mode": {
    "name": "ipython",
    "version": 3
   },
   "file_extension": ".py",
   "mimetype": "text/x-python",
   "name": "python",
   "nbconvert_exporter": "python",
   "pygments_lexer": "ipython3",
   "version": "3.9.13"
  }
 },
 "nbformat": 4,
 "nbformat_minor": 5
}
